{
 "cells": [
  {
   "cell_type": "code",
   "execution_count": 7,
   "id": "58260dae",
   "metadata": {},
   "outputs": [
    {
     "name": "stdout",
     "output_type": "stream",
     "text": [
      "scikit-image                  0.19.2\n"
     ]
    },
    {
     "name": "stderr",
     "output_type": "stream",
     "text": [
      "WARNING: Ignoring invalid distribution -ensorflow-intel (c:\\users\\tayal\\anaconda3\\lib\\site-packages)\n"
     ]
    }
   ],
   "source": [
    "!pip list | grep scikit-image"
   ]
  },
  {
   "cell_type": "code",
   "execution_count": 8,
   "id": "955fbfde",
   "metadata": {
    "scrolled": true
   },
   "outputs": [
    {
     "name": "stdout",
     "output_type": "stream",
     "text": [
      "Requirement already satisfied: scikit-image in c:\\users\\tayal\\anaconda3\\lib\\site-packages (0.19.2)\n",
      "Collecting scikit-image\n",
      "  Obtaining dependency information for scikit-image from https://files.pythonhosted.org/packages/32/b2/1811645651153407f1e715b75afe9962d87582bee70b42c8671c255f8fe6/scikit_image-0.21.0-cp39-cp39-win_amd64.whl.metadata\n",
      "  Downloading scikit_image-0.21.0-cp39-cp39-win_amd64.whl.metadata (14 kB)\n",
      "Collecting numpy>=1.21.1 (from scikit-image)\n",
      "  Obtaining dependency information for numpy>=1.21.1 from https://files.pythonhosted.org/packages/97/43/4cd9dc8c051537ed0613fcfc4229dfb9eb39fe058c8d42632977465bfdb5/numpy-1.26.0-cp39-cp39-win_amd64.whl.metadata\n",
      "  Downloading numpy-1.26.0-cp39-cp39-win_amd64.whl.metadata (61 kB)\n",
      "     ---------------------------------------- 61.1/61.1 kB 1.1 MB/s eta 0:00:00\n",
      "Collecting scipy>=1.8 (from scikit-image)\n",
      "  Obtaining dependency information for scipy>=1.8 from https://files.pythonhosted.org/packages/e9/20/2d0561ab54d857365926c5b53538369a7b8d6ccbffaca509305b074028cd/scipy-1.11.2-cp39-cp39-win_amd64.whl.metadata\n",
      "  Downloading scipy-1.11.2-cp39-cp39-win_amd64.whl.metadata (59 kB)\n",
      "     ---------------------------------------- 59.1/59.1 kB 3.1 MB/s eta 0:00:00\n",
      "Collecting networkx>=2.8 (from scikit-image)\n",
      "  Downloading networkx-3.1-py3-none-any.whl (2.1 MB)\n",
      "     ---------------------------------------- 2.1/2.1 MB 4.9 MB/s eta 0:00:00\n",
      "Requirement already satisfied: pillow>=9.0.1 in c:\\users\\tayal\\anaconda3\\lib\\site-packages (from scikit-image) (9.0.1)\n",
      "Collecting imageio>=2.27 (from scikit-image)\n",
      "  Obtaining dependency information for imageio>=2.27 from https://files.pythonhosted.org/packages/eb/21/662994d78d8623055f8ffa91838e28f04b2a34bd5d8d6dbc6c7573285ed6/imageio-2.31.3-py3-none-any.whl.metadata\n",
      "  Downloading imageio-2.31.3-py3-none-any.whl.metadata (4.6 kB)\n",
      "Collecting tifffile>=2022.8.12 (from scikit-image)\n",
      "  Obtaining dependency information for tifffile>=2022.8.12 from https://files.pythonhosted.org/packages/36/06/b5408ce5edf09a3ee0ee531dadb2afc85ffb7624515b223b226b4a45a1d2/tifffile-2023.9.18-py3-none-any.whl.metadata\n",
      "  Downloading tifffile-2023.9.18-py3-none-any.whl.metadata (30 kB)\n",
      "Requirement already satisfied: PyWavelets>=1.1.1 in c:\\users\\tayal\\anaconda3\\lib\\site-packages (from scikit-image) (1.3.0)\n",
      "Requirement already satisfied: packaging>=21 in c:\\users\\tayal\\anaconda3\\lib\\site-packages (from scikit-image) (21.3)\n",
      "Collecting lazy_loader>=0.2 (from scikit-image)\n",
      "  Obtaining dependency information for lazy_loader>=0.2 from https://files.pythonhosted.org/packages/a1/c3/65b3814e155836acacf720e5be3b5757130346670ac454fee29d3eda1381/lazy_loader-0.3-py3-none-any.whl.metadata\n",
      "  Downloading lazy_loader-0.3-py3-none-any.whl.metadata (4.3 kB)\n",
      "Requirement already satisfied: pyparsing!=3.0.5,>=2.0.2 in c:\\users\\tayal\\anaconda3\\lib\\site-packages (from packaging>=21->scikit-image) (3.0.4)\n",
      "Downloading scikit_image-0.21.0-cp39-cp39-win_amd64.whl (22.9 MB)\n",
      "   ---------------------------------------- 22.9/22.9 MB 766.6 kB/s eta 0:00:00\n",
      "Downloading imageio-2.31.3-py3-none-any.whl (313 kB)\n",
      "   -------------------------------------- 313.0/313.0 kB 624.3 kB/s eta 0:00:00\n",
      "Downloading lazy_loader-0.3-py3-none-any.whl (9.1 kB)\n",
      "Downloading numpy-1.26.0-cp39-cp39-win_amd64.whl (15.8 MB)\n",
      "   ---------------------------------------- 15.8/15.8 MB 910.5 kB/s eta 0:00:00\n",
      "Downloading scipy-1.11.2-cp39-cp39-win_amd64.whl (44.1 MB)\n",
      "   ---------------------------------------- 44.1/44.1 MB 1.1 MB/s eta 0:00:00\n",
      "Downloading tifffile-2023.9.18-py3-none-any.whl (222 kB)\n",
      "   -------------------------------------- 222.1/222.1 kB 588.5 kB/s eta 0:00:00\n",
      "Installing collected packages: numpy, networkx, lazy_loader, tifffile, scipy, imageio, scikit-image\n",
      "  Attempting uninstall: numpy\n",
      "    Found existing installation: numpy 1.19.5\n",
      "    Uninstalling numpy-1.19.5:\n",
      "      Successfully uninstalled numpy-1.19.5\n"
     ]
    },
    {
     "name": "stderr",
     "output_type": "stream",
     "text": [
      "WARNING: Ignoring invalid distribution -ensorflow-intel (c:\\users\\tayal\\anaconda3\\lib\\site-packages)\n",
      "WARNING: Ignoring invalid distribution -ensorflow-intel (c:\\users\\tayal\\anaconda3\\lib\\site-packages)\n",
      "ERROR: Could not install packages due to an OSError: [WinError 5] Access is denied: 'C:\\\\Users\\\\tayal\\\\anaconda3\\\\Lib\\\\site-packages\\\\~.mpy\\\\.libs\\\\libopenblas.WCDJNK7YVMPZQ2ME2ZZHJJRJ3JIKNDB7.gfortran-win_amd64.dll'\n",
      "Consider using the `--user` option or check the permissions.\n",
      "\n"
     ]
    }
   ],
   "source": [
    "!pip install --upgrade scikit-image"
   ]
  },
  {
   "cell_type": "code",
   "execution_count": 30,
   "id": "6f1e425f",
   "metadata": {
    "scrolled": false
   },
   "outputs": [
    {
     "name": "stderr",
     "output_type": "stream",
     "text": [
      "WARNING: Ignoring invalid distribution -ensorflow-intel (c:\\users\\tayal\\anaconda3\\lib\\site-packages)\n",
      "WARNING: Skipping tensorflow-macos as it is not installed.\n",
      "WARNING: Ignoring invalid distribution -ensorflow-intel (c:\\users\\tayal\\anaconda3\\lib\\site-packages)\n",
      "WARNING: Skipping tensorflow-metal as it is not installed.\n",
      "WARNING: Ignoring invalid distribution -ensorflow-intel (c:\\users\\tayal\\anaconda3\\lib\\site-packages)\n",
      "ERROR: Could not find a version that satisfies the requirement tensorflow-macos (from versions: none)\n",
      "ERROR: No matching distribution found for tensorflow-macos\n",
      "WARNING: Ignoring invalid distribution -ensorflow-intel (c:\\users\\tayal\\anaconda3\\lib\\site-packages)\n",
      "ERROR: Could not find a version that satisfies the requirement tensorflow-metal (from versions: none)\n",
      "ERROR: No matching distribution found for tensorflow-metal\n"
     ]
    }
   ],
   "source": [
    "!python -m pip uninstall tensorflow-macos\n",
    "!python -m pip uninstall tensorflow-metal\n",
    "\n",
    "!python -m pip install tensorflow-macos\n",
    "!python -m pip install tensorflow-metal"
   ]
  },
  {
   "cell_type": "code",
   "execution_count": 32,
   "id": "80e6fd88",
   "metadata": {},
   "outputs": [
    {
     "name": "stdout",
     "output_type": "stream",
     "text": [
      "Name: tensorflow\n",
      "Version: 2.11.0\n",
      "Summary: TensorFlow is an open source machine learning framework for everyone.\n",
      "Home-page: https://www.tensorflow.org/\n",
      "Author: Google Inc.\n",
      "Author-email: packages@tensorflow.org\n",
      "License: Apache 2.0\n",
      "Location: c:\\users\\tayal\\anaconda3\\lib\\site-packages\n",
      "Requires: tensorflow-intel\n",
      "Required-by: \n"
     ]
    },
    {
     "name": "stderr",
     "output_type": "stream",
     "text": [
      "WARNING: Ignoring invalid distribution -ensorflow-intel (c:\\users\\tayal\\anaconda3\\lib\\site-packages)\n"
     ]
    }
   ],
   "source": [
    "!pip show tensorflow"
   ]
  },
  {
   "cell_type": "code",
   "execution_count": 36,
   "id": "c50a25cc",
   "metadata": {},
   "outputs": [
    {
     "name": "stderr",
     "output_type": "stream",
     "text": [
      "'source' is not recognized as an internal or external command,\n",
      "operable program or batch file.\n"
     ]
    }
   ],
   "source": [
    "!python -m venv myenv\n",
    "!source myenv/bin/activate"
   ]
  },
  {
   "cell_type": "code",
   "execution_count": null,
   "id": "7c4f4a5a",
   "metadata": {},
   "outputs": [],
   "source": [
    "virtualenv myenv\n",
    "source myenv/bin/activate  # On macOS and Linux\n"
   ]
  },
  {
   "cell_type": "code",
   "execution_count": 44,
   "id": "32fc6447",
   "metadata": {
    "scrolled": true
   },
   "outputs": [
    {
     "name": "stdout",
     "output_type": "stream",
     "text": [
      "^C\n"
     ]
    }
   ],
   "source": [
    "!pip uninstall tensorflow"
   ]
  },
  {
   "cell_type": "code",
   "execution_count": 46,
   "id": "2aa41706",
   "metadata": {},
   "outputs": [
    {
     "name": "stdout",
     "output_type": "stream",
     "text": [
      "Collecting tensorflow==2.5.0"
     ]
    },
    {
     "name": "stderr",
     "output_type": "stream",
     "text": [
      "WARNING: Ignoring invalid distribution -ensorflow-intel (c:\\users\\tayal\\anaconda3\\lib\\site-packages)\n",
      "WARNING: Ignoring invalid distribution -ensorflow-intel (c:\\users\\tayal\\anaconda3\\lib\\site-packages)\n",
      "ERROR: Could not install packages due to an OSError: [WinError 5] Access is denied: 'C:\\\\Users\\\\tayal\\\\anaconda3\\\\Lib\\\\site-packages\\\\tensorflow\\\\lite\\\\experimental\\\\microfrontend\\\\python\\\\ops\\\\_audio_microfrontend_op.so'\n",
      "Consider using the `--user` option or check the permissions.\n",
      "\n"
     ]
    },
    {
     "name": "stdout",
     "output_type": "stream",
     "text": [
      "\n",
      "  Using cached tensorflow-2.5.0-cp39-cp39-win_amd64.whl (422.6 MB)\n",
      "Collecting numpy~=1.19.2 (from tensorflow==2.5.0)\n",
      "  Using cached numpy-1.19.5-cp39-cp39-win_amd64.whl (13.3 MB)\n",
      "Collecting absl-py~=0.10 (from tensorflow==2.5.0)\n",
      "  Using cached absl_py-0.15.0-py3-none-any.whl (132 kB)\n",
      "Requirement already satisfied: astunparse~=1.6.3 in c:\\users\\tayal\\anaconda3\\lib\\site-packages (from tensorflow==2.5.0) (1.6.3)\n",
      "Collecting flatbuffers~=1.12.0 (from tensorflow==2.5.0)\n",
      "  Using cached flatbuffers-1.12-py2.py3-none-any.whl (15 kB)\n",
      "Requirement already satisfied: google-pasta~=0.2 in c:\\users\\tayal\\anaconda3\\lib\\site-packages (from tensorflow==2.5.0) (0.2.0)\n",
      "Collecting h5py~=3.1.0 (from tensorflow==2.5.0)\n",
      "  Using cached h5py-3.1.0-cp39-cp39-win_amd64.whl (2.7 MB)\n",
      "Requirement already satisfied: keras-preprocessing~=1.1.2 in c:\\users\\tayal\\anaconda3\\lib\\site-packages (from tensorflow==2.5.0) (1.1.2)\n",
      "Requirement already satisfied: opt-einsum~=3.3.0 in c:\\users\\tayal\\anaconda3\\lib\\site-packages (from tensorflow==2.5.0) (3.3.0)\n",
      "Requirement already satisfied: protobuf>=3.9.2 in c:\\users\\tayal\\anaconda3\\lib\\site-packages (from tensorflow==2.5.0) (3.19.6)\n",
      "Requirement already satisfied: six~=1.15.0 in c:\\users\\tayal\\anaconda3\\lib\\site-packages (from tensorflow==2.5.0) (1.15.0)\n",
      "Requirement already satisfied: termcolor~=1.1.0 in c:\\users\\tayal\\anaconda3\\lib\\site-packages (from tensorflow==2.5.0) (1.1.0)\n",
      "Requirement already satisfied: typing-extensions~=3.7.4 in c:\\users\\tayal\\anaconda3\\lib\\site-packages (from tensorflow==2.5.0) (3.7.4.3)\n",
      "Requirement already satisfied: wheel~=0.35 in c:\\users\\tayal\\anaconda3\\lib\\site-packages (from tensorflow==2.5.0) (0.37.1)\n",
      "Requirement already satisfied: wrapt~=1.12.1 in c:\\users\\tayal\\anaconda3\\lib\\site-packages (from tensorflow==2.5.0) (1.12.1)\n",
      "Requirement already satisfied: gast==0.4.0 in c:\\users\\tayal\\anaconda3\\lib\\site-packages (from tensorflow==2.5.0) (0.4.0)\n",
      "Requirement already satisfied: tensorboard~=2.5 in c:\\users\\tayal\\anaconda3\\lib\\site-packages (from tensorflow==2.5.0) (2.11.2)\n",
      "Collecting tensorflow-estimator<2.6.0,>=2.5.0rc0 (from tensorflow==2.5.0)\n",
      "  Using cached tensorflow_estimator-2.5.0-py2.py3-none-any.whl (462 kB)\n",
      "Requirement already satisfied: keras-nightly~=2.5.0.dev in c:\\users\\tayal\\anaconda3\\lib\\site-packages (from tensorflow==2.5.0) (2.5.0.dev2021032900)\n",
      "Collecting grpcio~=1.34.0 (from tensorflow==2.5.0)\n",
      "  Using cached grpcio-1.34.1-cp39-cp39-win_amd64.whl (2.9 MB)\n",
      "Requirement already satisfied: google-auth<3,>=1.6.3 in c:\\users\\tayal\\anaconda3\\lib\\site-packages (from tensorboard~=2.5->tensorflow==2.5.0) (2.23.0)\n",
      "Requirement already satisfied: google-auth-oauthlib<0.5,>=0.4.1 in c:\\users\\tayal\\anaconda3\\lib\\site-packages (from tensorboard~=2.5->tensorflow==2.5.0) (0.4.6)\n",
      "Requirement already satisfied: markdown>=2.6.8 in c:\\users\\tayal\\anaconda3\\lib\\site-packages (from tensorboard~=2.5->tensorflow==2.5.0) (3.3.4)\n",
      "Requirement already satisfied: requests<3,>=2.21.0 in c:\\users\\tayal\\anaconda3\\lib\\site-packages (from tensorboard~=2.5->tensorflow==2.5.0) (2.27.1)\n",
      "Requirement already satisfied: setuptools>=41.0.0 in c:\\users\\tayal\\anaconda3\\lib\\site-packages (from tensorboard~=2.5->tensorflow==2.5.0) (61.2.0)\n",
      "Requirement already satisfied: tensorboard-data-server<0.7.0,>=0.6.0 in c:\\users\\tayal\\anaconda3\\lib\\site-packages (from tensorboard~=2.5->tensorflow==2.5.0) (0.6.1)\n",
      "Requirement already satisfied: tensorboard-plugin-wit>=1.6.0 in c:\\users\\tayal\\anaconda3\\lib\\site-packages (from tensorboard~=2.5->tensorflow==2.5.0) (1.8.1)\n",
      "Requirement already satisfied: werkzeug>=1.0.1 in c:\\users\\tayal\\anaconda3\\lib\\site-packages (from tensorboard~=2.5->tensorflow==2.5.0) (2.0.3)\n",
      "Requirement already satisfied: cachetools<6.0,>=2.0.0 in c:\\users\\tayal\\anaconda3\\lib\\site-packages (from google-auth<3,>=1.6.3->tensorboard~=2.5->tensorflow==2.5.0) (4.2.2)\n",
      "Requirement already satisfied: pyasn1-modules>=0.2.1 in c:\\users\\tayal\\anaconda3\\lib\\site-packages (from google-auth<3,>=1.6.3->tensorboard~=2.5->tensorflow==2.5.0) (0.2.8)\n",
      "Requirement already satisfied: rsa<5,>=3.1.4 in c:\\users\\tayal\\anaconda3\\lib\\site-packages (from google-auth<3,>=1.6.3->tensorboard~=2.5->tensorflow==2.5.0) (4.7.2)\n",
      "Requirement already satisfied: urllib3<2.0 in c:\\users\\tayal\\anaconda3\\lib\\site-packages (from google-auth<3,>=1.6.3->tensorboard~=2.5->tensorflow==2.5.0) (1.26.9)\n",
      "Requirement already satisfied: requests-oauthlib>=0.7.0 in c:\\users\\tayal\\anaconda3\\lib\\site-packages (from google-auth-oauthlib<0.5,>=0.4.1->tensorboard~=2.5->tensorflow==2.5.0) (1.3.1)\n",
      "Requirement already satisfied: certifi>=2017.4.17 in c:\\users\\tayal\\anaconda3\\lib\\site-packages (from requests<3,>=2.21.0->tensorboard~=2.5->tensorflow==2.5.0) (2021.10.8)\n",
      "Requirement already satisfied: charset-normalizer~=2.0.0 in c:\\users\\tayal\\anaconda3\\lib\\site-packages (from requests<3,>=2.21.0->tensorboard~=2.5->tensorflow==2.5.0) (2.0.4)\n",
      "Requirement already satisfied: idna<4,>=2.5 in c:\\users\\tayal\\anaconda3\\lib\\site-packages (from requests<3,>=2.21.0->tensorboard~=2.5->tensorflow==2.5.0) (3.3)\n",
      "Requirement already satisfied: pyasn1<0.5.0,>=0.4.6 in c:\\users\\tayal\\anaconda3\\lib\\site-packages (from pyasn1-modules>=0.2.1->google-auth<3,>=1.6.3->tensorboard~=2.5->tensorflow==2.5.0) (0.4.8)\n",
      "Requirement already satisfied: oauthlib>=3.0.0 in c:\\users\\tayal\\anaconda3\\lib\\site-packages (from requests-oauthlib>=0.7.0->google-auth-oauthlib<0.5,>=0.4.1->tensorboard~=2.5->tensorflow==2.5.0) (3.2.2)\n",
      "Installing collected packages: tensorflow-estimator, flatbuffers, numpy, grpcio, absl-py, h5py, tensorflow\n",
      "  Attempting uninstall: tensorflow-estimator\n",
      "    Found existing installation: tensorflow-estimator 2.11.0\n",
      "    Uninstalling tensorflow-estimator-2.11.0:\n",
      "      Successfully uninstalled tensorflow-estimator-2.11.0\n",
      "  Attempting uninstall: flatbuffers\n",
      "    Found existing installation: flatbuffers 23.5.26\n",
      "    Uninstalling flatbuffers-23.5.26:\n",
      "      Successfully uninstalled flatbuffers-23.5.26\n",
      "  Attempting uninstall: numpy\n",
      "    Found existing installation: numpy 1.21.6\n",
      "    Uninstalling numpy-1.21.6:\n",
      "      Successfully uninstalled numpy-1.21.6\n",
      "  Attempting uninstall: grpcio\n",
      "    Found existing installation: grpcio 1.58.0\n",
      "    Uninstalling grpcio-1.58.0:\n",
      "      Successfully uninstalled grpcio-1.58.0\n",
      "  Attempting uninstall: absl-py\n",
      "    Found existing installation: absl-py 1.4.0\n",
      "    Uninstalling absl-py-1.4.0:\n",
      "      Successfully uninstalled absl-py-1.4.0\n",
      "  Attempting uninstall: h5py\n",
      "    Found existing installation: h5py 3.6.0\n",
      "    Uninstalling h5py-3.6.0:\n",
      "      Successfully uninstalled h5py-3.6.0\n",
      "  Attempting uninstall: tensorflow\n",
      "    Found existing installation: tensorflow 2.11.0\n",
      "    Uninstalling tensorflow-2.11.0:\n",
      "      Successfully uninstalled tensorflow-2.11.0\n",
      "  Rolling back uninstall of tensorflow\n",
      "  Moving to c:\\users\\tayal\\anaconda3\\lib\\site-packages\\tensorflow-2.11.0.dist-info\\\n",
      "   from C:\\Users\\tayal\\anaconda3\\Lib\\site-packages\\~ensorflow-2.11.0.dist-info\n"
     ]
    }
   ],
   "source": [
    "!pip install tensorflow==2.5.0"
   ]
  },
  {
   "cell_type": "code",
   "execution_count": 40,
   "id": "1cf3b1b3",
   "metadata": {},
   "outputs": [
    {
     "name": "stderr",
     "output_type": "stream",
     "text": [
      "WARNING: Ignoring invalid distribution -ensorflow-intel (c:\\users\\tayal\\anaconda3\\lib\\site-packages)\n",
      "WARNING: Skipping tensorflow-metal as it is not installed.\n",
      "WARNING: Ignoring invalid distribution -ensorflow-intel (c:\\users\\tayal\\anaconda3\\lib\\site-packages)\n",
      "ERROR: Could not find a version that satisfies the requirement tensorflow-metal==0.5.0 (from versions: none)\n",
      "ERROR: No matching distribution found for tensorflow-metal==0.5.0\n"
     ]
    }
   ],
   "source": [
    "!pip uninstall tensorflow-metal\n",
    "!pip install tensorflow-metal==0.5.0\n"
   ]
  },
  {
   "cell_type": "code",
   "execution_count": 54,
   "id": "57aa07d1",
   "metadata": {
    "scrolled": true
   },
   "outputs": [],
   "source": [
    "import os\n",
    "# import tensorflow\n",
    "import numpy as np\n",
    "import PIL\n",
    "import matplotlib.pyplot as plt\n",
    "# from keras.applications.imagenet_utils import decode_predictions"
   ]
  },
  {
   "cell_type": "code",
   "execution_count": 55,
   "id": "be29f8d9",
   "metadata": {},
   "outputs": [
    {
     "ename": "NameError",
     "evalue": "name 'tf' is not defined",
     "output_type": "error",
     "traceback": [
      "\u001b[1;31m---------------------------------------------------------------------------\u001b[0m",
      "\u001b[1;31mNameError\u001b[0m                                 Traceback (most recent call last)",
      "Input \u001b[1;32mIn [55]\u001b[0m, in \u001b[0;36m<cell line: 5>\u001b[1;34m()\u001b[0m\n\u001b[0;32m      1\u001b[0m \u001b[38;5;66;03m# import tensorflow as tf\u001b[39;00m\n\u001b[0;32m      2\u001b[0m \u001b[38;5;28;01mfrom\u001b[39;00m \u001b[38;5;21;01mtyping\u001b[39;00m \u001b[38;5;28;01mimport\u001b[39;00m Tuple\n\u001b[0;32m      4\u001b[0m EFFICIENTNET_VERSION \u001b[38;5;241m=\u001b[39m {\n\u001b[1;32m----> 5\u001b[0m     \u001b[38;5;124m'\u001b[39m\u001b[38;5;124mB0\u001b[39m\u001b[38;5;124m'\u001b[39m: {\u001b[38;5;124m'\u001b[39m\u001b[38;5;124mmodel\u001b[39m\u001b[38;5;124m'\u001b[39m: \u001b[43mtf\u001b[49m\u001b[38;5;241m.\u001b[39mkeras\u001b[38;5;241m.\u001b[39mapplications\u001b[38;5;241m.\u001b[39mEfficientNetB0, \u001b[38;5;124m'\u001b[39m\u001b[38;5;124mimg_size\u001b[39m\u001b[38;5;124m'\u001b[39m: \u001b[38;5;241m224\u001b[39m},\n\u001b[0;32m      6\u001b[0m     \u001b[38;5;124m'\u001b[39m\u001b[38;5;124mB1\u001b[39m\u001b[38;5;124m'\u001b[39m: {\u001b[38;5;124m'\u001b[39m\u001b[38;5;124mmodel\u001b[39m\u001b[38;5;124m'\u001b[39m: tf\u001b[38;5;241m.\u001b[39mkeras\u001b[38;5;241m.\u001b[39mapplications\u001b[38;5;241m.\u001b[39mEfficientNetB1, \u001b[38;5;124m'\u001b[39m\u001b[38;5;124mimg_size\u001b[39m\u001b[38;5;124m'\u001b[39m: \u001b[38;5;241m240\u001b[39m},\n\u001b[0;32m      7\u001b[0m     \u001b[38;5;124m'\u001b[39m\u001b[38;5;124mB2\u001b[39m\u001b[38;5;124m'\u001b[39m: {\u001b[38;5;124m'\u001b[39m\u001b[38;5;124mmodel\u001b[39m\u001b[38;5;124m'\u001b[39m: tf\u001b[38;5;241m.\u001b[39mkeras\u001b[38;5;241m.\u001b[39mapplications\u001b[38;5;241m.\u001b[39mEfficientNetB2, \u001b[38;5;124m'\u001b[39m\u001b[38;5;124mimg_size\u001b[39m\u001b[38;5;124m'\u001b[39m: \u001b[38;5;241m260\u001b[39m},\n\u001b[0;32m      8\u001b[0m     \u001b[38;5;124m'\u001b[39m\u001b[38;5;124mB3\u001b[39m\u001b[38;5;124m'\u001b[39m: {\u001b[38;5;124m'\u001b[39m\u001b[38;5;124mmodel\u001b[39m\u001b[38;5;124m'\u001b[39m: tf\u001b[38;5;241m.\u001b[39mkeras\u001b[38;5;241m.\u001b[39mapplications\u001b[38;5;241m.\u001b[39mEfficientNetB3, \u001b[38;5;124m'\u001b[39m\u001b[38;5;124mimg_size\u001b[39m\u001b[38;5;124m'\u001b[39m: \u001b[38;5;241m300\u001b[39m},\n\u001b[0;32m      9\u001b[0m     \u001b[38;5;124m'\u001b[39m\u001b[38;5;124mB4\u001b[39m\u001b[38;5;124m'\u001b[39m: {\u001b[38;5;124m'\u001b[39m\u001b[38;5;124mmodel\u001b[39m\u001b[38;5;124m'\u001b[39m: tf\u001b[38;5;241m.\u001b[39mkeras\u001b[38;5;241m.\u001b[39mapplications\u001b[38;5;241m.\u001b[39mEfficientNetB4, \u001b[38;5;124m'\u001b[39m\u001b[38;5;124mimg_size\u001b[39m\u001b[38;5;124m'\u001b[39m: \u001b[38;5;241m380\u001b[39m},\n\u001b[0;32m     10\u001b[0m     \u001b[38;5;124m'\u001b[39m\u001b[38;5;124mB5\u001b[39m\u001b[38;5;124m'\u001b[39m: {\u001b[38;5;124m'\u001b[39m\u001b[38;5;124mmodel\u001b[39m\u001b[38;5;124m'\u001b[39m: tf\u001b[38;5;241m.\u001b[39mkeras\u001b[38;5;241m.\u001b[39mapplications\u001b[38;5;241m.\u001b[39mEfficientNetB5, \u001b[38;5;124m'\u001b[39m\u001b[38;5;124mimg_size\u001b[39m\u001b[38;5;124m'\u001b[39m: \u001b[38;5;241m456\u001b[39m},\n\u001b[0;32m     11\u001b[0m     \u001b[38;5;124m'\u001b[39m\u001b[38;5;124mB6\u001b[39m\u001b[38;5;124m'\u001b[39m: {\u001b[38;5;124m'\u001b[39m\u001b[38;5;124mmodel\u001b[39m\u001b[38;5;124m'\u001b[39m: tf\u001b[38;5;241m.\u001b[39mkeras\u001b[38;5;241m.\u001b[39mapplications\u001b[38;5;241m.\u001b[39mEfficientNetB6, \u001b[38;5;124m'\u001b[39m\u001b[38;5;124mimg_size\u001b[39m\u001b[38;5;124m'\u001b[39m: \u001b[38;5;241m528\u001b[39m},\n\u001b[0;32m     12\u001b[0m     \u001b[38;5;124m'\u001b[39m\u001b[38;5;124mB7\u001b[39m\u001b[38;5;124m'\u001b[39m: {\u001b[38;5;124m'\u001b[39m\u001b[38;5;124mmodel\u001b[39m\u001b[38;5;124m'\u001b[39m: tf\u001b[38;5;241m.\u001b[39mkeras\u001b[38;5;241m.\u001b[39mapplications\u001b[38;5;241m.\u001b[39mEfficientNetB7, \u001b[38;5;124m'\u001b[39m\u001b[38;5;124mimg_size\u001b[39m\u001b[38;5;124m'\u001b[39m: \u001b[38;5;241m600\u001b[39m},\n\u001b[0;32m     13\u001b[0m }\n\u001b[0;32m     16\u001b[0m \u001b[38;5;28;01mdef\u001b[39;00m \u001b[38;5;21mget_efficientnet\u001b[39m(\n\u001b[0;32m     17\u001b[0m         version: \u001b[38;5;28mstr\u001b[39m \u001b[38;5;241m=\u001b[39m \u001b[38;5;124m'\u001b[39m\u001b[38;5;124mB0\u001b[39m\u001b[38;5;124m'\u001b[39m, weights: \u001b[38;5;28mstr\u001b[39m \u001b[38;5;241m=\u001b[39m \u001b[38;5;124m'\u001b[39m\u001b[38;5;124mimagenet\u001b[39m\u001b[38;5;124m'\u001b[39m\n\u001b[0;32m     18\u001b[0m ) \u001b[38;5;241m-\u001b[39m\u001b[38;5;241m>\u001b[39m Tuple[tf\u001b[38;5;241m.\u001b[39mkeras\u001b[38;5;241m.\u001b[39mModel, callable]:\n\u001b[0;32m     19\u001b[0m     \u001b[38;5;124;03m\"\"\"\u001b[39;00m\n\u001b[0;32m     20\u001b[0m \u001b[38;5;124;03m    Function to get one of the EfficientNet models with pretrained weights. For\u001b[39;00m\n\u001b[0;32m     21\u001b[0m \u001b[38;5;124;03m    more information on image resolution and number of parameters for each of\u001b[39;00m\n\u001b[0;32m     22\u001b[0m \u001b[38;5;124;03m    the EfficientNet models see:\u001b[39;00m\n\u001b[0;32m     23\u001b[0m \u001b[38;5;124;03m    https://keras.io/examples/vision/image_classification_efficientnet_fine_tuning/\u001b[39;00m\n\u001b[0;32m     24\u001b[0m \u001b[38;5;124;03m    \"\"\"\u001b[39;00m\n",
      "\u001b[1;31mNameError\u001b[0m: name 'tf' is not defined"
     ]
    }
   ],
   "source": [
    "# import tensorflow as tf\n",
    "from typing import Tuple\n",
    "\n",
    "EFFICIENTNET_VERSION = {\n",
    "    'B0': {'model': tf.keras.applications.EfficientNetB0, 'img_size': 224},\n",
    "    'B1': {'model': tf.keras.applications.EfficientNetB1, 'img_size': 240},\n",
    "    'B2': {'model': tf.keras.applications.EfficientNetB2, 'img_size': 260},\n",
    "    'B3': {'model': tf.keras.applications.EfficientNetB3, 'img_size': 300},\n",
    "    'B4': {'model': tf.keras.applications.EfficientNetB4, 'img_size': 380},\n",
    "    'B5': {'model': tf.keras.applications.EfficientNetB5, 'img_size': 456},\n",
    "    'B6': {'model': tf.keras.applications.EfficientNetB6, 'img_size': 528},\n",
    "    'B7': {'model': tf.keras.applications.EfficientNetB7, 'img_size': 600},\n",
    "}\n",
    "\n",
    "\n",
    "def get_efficientnet(\n",
    "        version: str = 'B0', weights: str = 'imagenet'\n",
    ") -> Tuple[tf.keras.Model, callable]:\n",
    "    \"\"\"\n",
    "    Function to get one of the EfficientNet models with pretrained weights. For\n",
    "    more information on image resolution and number of parameters for each of\n",
    "    the EfficientNet models see:\n",
    "    https://keras.io/examples/vision/image_classification_efficientnet_fine_tuning/\n",
    "    \"\"\"\n",
    "    img_size = EFFICIENTNET_VERSION[version]['img_size']\n",
    "    print(img_size)\n",
    "    def preprocess_image(x):\n",
    "        return tf.image.resize(x, (img_size, img_size))\n",
    "\n",
    "    return (\n",
    "        EFFICIENTNET_VERSION[version]['model'](weights=weights),\n",
    "        preprocess_image\n",
    "    )"
   ]
  }
 ],
 "metadata": {
  "kernelspec": {
   "display_name": "Python 3 (ipykernel)",
   "language": "python",
   "name": "python3"
  },
  "language_info": {
   "codemirror_mode": {
    "name": "ipython",
    "version": 3
   },
   "file_extension": ".py",
   "mimetype": "text/x-python",
   "name": "python",
   "nbconvert_exporter": "python",
   "pygments_lexer": "ipython3",
   "version": "3.9.12"
  }
 },
 "nbformat": 4,
 "nbformat_minor": 5
}
