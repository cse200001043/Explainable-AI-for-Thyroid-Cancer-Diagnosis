{
 "cells": [
  {
   "cell_type": "code",
   "execution_count": 22,
   "id": "4bfda988",
   "metadata": {},
   "outputs": [],
   "source": [
    "#importing required modules and libraries\n",
    "import matplotlib.pyplot as plt\n",
    "from skimage import io\n",
    "from skimage import data\n",
    "from skimage.color import rgb2gray\n",
    "from skimage import data\n",
    "\n",
    "def toGrayImage(img_path, display_image=True):\n",
    "    #reading the original image\n",
    "    rgb_img  = io.imread(img_path)\n",
    "\n",
    "    #converting the image into grayscale\n",
    "    gray_img  = rgb2gray(rgb_img)\n",
    "    \n",
    "    if(display_image):\n",
    "        fig, axes = plt.subplots(1, 2, figsize=(8, 4))\n",
    "        ax = axes.ravel()\n",
    "\n",
    "        #setting the axes of the image\n",
    "        ax[0].imshow(rgb_img)\n",
    "        ax[0].set_title(\"Original image\")\n",
    "        ax[1].imshow(gray_img, cmap=plt.cm.gray)\n",
    "        ax[1].set_title(\"Processed image\")\n",
    "\n",
    "        #display the processed image\n",
    "        fig.tight_layout()\n",
    "        plt.show()\n",
    "\n",
    "def main():\n",
    "    #reading the original image\n",
    "    img_path = \"Sample Images/Taj Mahal.jpg\"\n",
    "    toGrayImage(img_path, False)\n",
    "    \n",
    "    \n",
    "    \n",
    "if __name__ == \"__main__\":\n",
    "    main()"
   ]
  },
  {
   "cell_type": "code",
   "execution_count": null,
   "id": "f612a75a",
   "metadata": {},
   "outputs": [],
   "source": [
    "import numpy as np\n",
    "# import matplotlib.pyplot as plt\n",
    "# import matplotlib.image as mpimg\n",
    "# from scipy.ndimage import gaussian_filter"
   ]
  },
  {
   "cell_type": "code",
   "execution_count": null,
   "id": "49cee99d",
   "metadata": {},
   "outputs": [],
   "source": [
    "\n",
    "\n",
    "def apply_gaussian_blur(image, sigma):\n",
    "    return gaussian_filter(image, sigma=sigma)\n",
    "\n",
    "# def main():\n",
    "image_path = \"path_to_your_image.jpg\"  # Replace with the actual image path\n",
    "#     original_image = mpimg.imread(image_path)\n",
    "    \n",
    "#     # Apply Gaussian blur with a specific sigma (adjust as needed)\n",
    "#     sigma = 1.5\n",
    "#     blurred_image = apply_gaussian_blur(original_image, sigma)\n",
    "    \n",
    "#     # Display original and blurred images side by side\n",
    "#     plt.figure(figsize=(10, 5))\n",
    "    \n",
    "#     plt.subplot(1, 2, 1)\n",
    "#     plt.imshow(original_image)\n",
    "#     plt.title('Original Image')\n",
    "    \n",
    "#     plt.subplot(1, 2, 2)\n",
    "#     plt.imshow(blurred_image)\n",
    "#     plt.title('Blurred Image')\n",
    "    \n",
    "#     plt.tight_layout()\n",
    "#     plt.show()\n",
    "\n",
    "# if __name__ == \"__main__\":\n",
    "#     main()\n"
   ]
  }
 ],
 "metadata": {
  "kernelspec": {
   "display_name": "Python 3 (ipykernel)",
   "language": "python",
   "name": "python3"
  },
  "language_info": {
   "codemirror_mode": {
    "name": "ipython",
    "version": 3
   },
   "file_extension": ".py",
   "mimetype": "text/x-python",
   "name": "python",
   "nbconvert_exporter": "python",
   "pygments_lexer": "ipython3",
   "version": "3.9.12"
  }
 },
 "nbformat": 4,
 "nbformat_minor": 5
}
